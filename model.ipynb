{
 "cells": [
  {
   "cell_type": "code",
   "execution_count": 1,
   "metadata": {},
   "outputs": [
    {
     "data": {
      "text/html": [
       "<style type='text/css'>\n",
       ".datatable table.frame { margin-bottom: 0; }\n",
       ".datatable table.frame thead { border-bottom: none; }\n",
       ".datatable table.frame tr.coltypes td {  color: #FFFFFF;  line-height: 6px;  padding: 0 0.5em;}\n",
       ".datatable .bool    { background: #DDDD99; }\n",
       ".datatable .object  { background: #565656; }\n",
       ".datatable .int     { background: #5D9E5D; }\n",
       ".datatable .float   { background: #4040CC; }\n",
       ".datatable .str     { background: #CC4040; }\n",
       ".datatable .time    { background: #40CC40; }\n",
       ".datatable .row_index {  background: var(--jp-border-color3);  border-right: 1px solid var(--jp-border-color0);  color: var(--jp-ui-font-color3);  font-size: 9px;}\n",
       ".datatable .frame tbody td { text-align: left; }\n",
       ".datatable .frame tr.coltypes .row_index {  background: var(--jp-border-color0);}\n",
       ".datatable th:nth-child(2) { padding-left: 12px; }\n",
       ".datatable .hellipsis {  color: var(--jp-cell-editor-border-color);}\n",
       ".datatable .vellipsis {  background: var(--jp-layout-color0);  color: var(--jp-cell-editor-border-color);}\n",
       ".datatable .na {  color: var(--jp-cell-editor-border-color);  font-size: 80%;}\n",
       ".datatable .sp {  opacity: 0.25;}\n",
       ".datatable .footer { font-size: 9px; }\n",
       ".datatable .frame_dimensions {  background: var(--jp-border-color3);  border-top: 1px solid var(--jp-border-color0);  color: var(--jp-ui-font-color3);  display: inline-block;  opacity: 0.6;  padding: 1px 10px 1px 5px;}\n",
       ".datatable .frame thead tr.colnames {  background-image: url('data:image/png;base64,iVBORw0KGgoAAAANSUhEUgAAABIAAAAkCAYAAACE7WrnAAAAdElEQVR42mP4wyMVQQ3M8P///whqYBSDkG2A8bGJo+tBMQifIbgMQ5ZjwGUIPjY2wxiwOZWQZrxhhM0F6IYjq8PqNWyBh4+NN7CpGv2jBo0aNGrQqEGjBtHFIIoLf5pUR2RXkFStsqnSiKBqs4bi6KdW0w8AxFl+XL1lK8wAAAAASUVORK5CYII=');  background-repeat: repeat-x;  background-size: 14px;  height: 28px;}\n",
       "</style>\n"
      ],
      "text/plain": [
       "<IPython.core.display.HTML object>"
      ]
     },
     "metadata": {},
     "output_type": "display_data"
    }
   ],
   "source": [
    "import pandas as pd\n",
    "import datatable as dt\n",
    "import dask.dataframe as dd\n",
    "import numpy as np \n",
    "import matplotlib.pyplot as plt\n",
    "import tensorflow as tf\n",
    "from tensorflow import keras \n",
    "import keras.backend as K\n",
    "from tensorflow.keras.callbacks import  EarlyStopping\n",
    "from tensorflow.keras.layers import Input, Dense, Lambda\n",
    "from tensorflow.keras.layers import Flatten, concatenate\n",
    "from tensorflow.keras.layers import BatchNormalization, Dropout, Reshape\n",
    "from keras.utils.vis_utils import plot_model\n",
    "from sklearn.preprocessing import OneHotEncoder, MinMaxScaler"
   ]
  },
  {
   "cell_type": "code",
   "execution_count": 2,
   "metadata": {},
   "outputs": [
    {
     "data": {
      "text/html": [
       "<div class='datatable'>\n",
       "  <table class='frame'>\n",
       "  <thead>\n",
       "    <tr class='colnames'><td class='row_index'></td><th>C0</th><th>C1</th><th>C2</th><th>C3</th><th>C4</th><th>C5</th><th>C6</th><th>C7</th><th>C8</th><th>C9</th><th class='vellipsis'>&hellip;</th><th>C1577903</th><th>C1577904</th><th>C1577905</th><th>C1577906</th><th>C1577907</th></tr>\n",
       "    <tr class='coltypes'><td class='row_index'></td><td class='float' title='float64'>&#x25AA;&#x25AA;&#x25AA;&#x25AA;&#x25AA;&#x25AA;&#x25AA;&#x25AA;</td><td class='float' title='float64'>&#x25AA;&#x25AA;&#x25AA;&#x25AA;&#x25AA;&#x25AA;&#x25AA;&#x25AA;</td><td class='float' title='float64'>&#x25AA;&#x25AA;&#x25AA;&#x25AA;&#x25AA;&#x25AA;&#x25AA;&#x25AA;</td><td class='float' title='float64'>&#x25AA;&#x25AA;&#x25AA;&#x25AA;&#x25AA;&#x25AA;&#x25AA;&#x25AA;</td><td class='float' title='float64'>&#x25AA;&#x25AA;&#x25AA;&#x25AA;&#x25AA;&#x25AA;&#x25AA;&#x25AA;</td><td class='float' title='float64'>&#x25AA;&#x25AA;&#x25AA;&#x25AA;&#x25AA;&#x25AA;&#x25AA;&#x25AA;</td><td class='float' title='float64'>&#x25AA;&#x25AA;&#x25AA;&#x25AA;&#x25AA;&#x25AA;&#x25AA;&#x25AA;</td><td class='float' title='float64'>&#x25AA;&#x25AA;&#x25AA;&#x25AA;&#x25AA;&#x25AA;&#x25AA;&#x25AA;</td><td class='float' title='float64'>&#x25AA;&#x25AA;&#x25AA;&#x25AA;&#x25AA;&#x25AA;&#x25AA;&#x25AA;</td><td class='float' title='float64'>&#x25AA;&#x25AA;&#x25AA;&#x25AA;&#x25AA;&#x25AA;&#x25AA;&#x25AA;</td><td></td><td class='float' title='float64'>&#x25AA;&#x25AA;&#x25AA;&#x25AA;&#x25AA;&#x25AA;&#x25AA;&#x25AA;</td><td class='float' title='float64'>&#x25AA;&#x25AA;&#x25AA;&#x25AA;&#x25AA;&#x25AA;&#x25AA;&#x25AA;</td><td class='float' title='float64'>&#x25AA;&#x25AA;&#x25AA;&#x25AA;&#x25AA;&#x25AA;&#x25AA;&#x25AA;</td><td class='float' title='float64'>&#x25AA;&#x25AA;&#x25AA;&#x25AA;&#x25AA;&#x25AA;&#x25AA;&#x25AA;</td><td class='float' title='float64'>&#x25AA;&#x25AA;&#x25AA;&#x25AA;&#x25AA;&#x25AA;&#x25AA;&#x25AA;</td></tr>\n",
       "  </thead>\n",
       "  <tbody>\n",
       "    <tr><td class='row_index'>0</td><td>3.83985e-22</td><td>7.69554e-22</td><td>1.13743e-21</td><td>1.44821e-21</td><td>1.6863e-21</td><td>1.83974e-21</td><td>1.90084e-21</td><td>1.86652e-21</td><td>1.73852e-21</td><td>1.52325e-21</td><td class=vellipsis>&hellip;</td><td>4.45936e-22</td><td>&minus;2.50303e-21</td><td>&minus;3.98991e-21</td><td>&minus;4.32521e-21</td><td>&minus;4.13826e-21</td></tr>\n",
       "    <tr><td class='row_index'>1</td><td>&minus;1.01416e-21</td><td>&minus;7.74709e-22</td><td>&minus;4.99028e-22</td><td>&minus;2.07651e-22</td><td>9.02605e-23</td><td>3.85339e-22</td><td>6.68307e-22</td><td>9.30265e-22</td><td>1.16298e-21</td><td>1.35912e-21</td><td class=vellipsis>&hellip;</td><td>&minus;4.13849e-21</td><td>&minus;3.49586e-21</td><td>&minus;2.28605e-21</td><td>&minus;2.24409e-21</td><td>&minus;3.91962e-21</td></tr>\n",
       "    <tr><td class='row_index'>2</td><td>1.20966e-21</td><td>1.13838e-21</td><td>1.04019e-21</td><td>9.20266e-22</td><td>7.81108e-22</td><td>6.25626e-22</td><td>4.5707e-22</td><td>2.7896e-22</td><td>9.50192e-23</td><td>&minus;9.09095e-23</td><td class=vellipsis>&hellip;</td><td>5.23381e-23</td><td>&minus;3.91688e-22</td><td>&minus;8.04927e-22</td><td>&minus;1.16927e-21</td><td>&minus;1.47168e-21</td></tr>\n",
       "    <tr><td class='row_index'>3</td><td>&minus;2.42755e-21</td><td>&minus;2.25382e-21</td><td>&minus;2.06635e-21</td><td>&minus;1.87457e-21</td><td>&minus;1.67887e-21</td><td>&minus;1.47966e-21</td><td>&minus;1.27737e-21</td><td>&minus;1.0724e-21</td><td>&minus;8.65188e-22</td><td>&minus;6.5617e-22</td><td class=vellipsis>&hellip;</td><td>&minus;1.21095e-21</td><td>&minus;1.4834e-21</td><td>&minus;1.75128e-21</td><td>&minus;2.01394e-21</td><td>&minus;2.27078e-21</td></tr>\n",
       "    <tr><td class='row_index'>4</td><td>&minus;6.66703e-22</td><td>&minus;6.96611e-22</td><td>&minus;7.26391e-22</td><td>&minus;7.5435e-22</td><td>&minus;7.80419e-22</td><td>&minus;8.04532e-22</td><td>&minus;8.26629e-22</td><td>&minus;8.46655e-22</td><td>&minus;8.6456e-22</td><td>&minus;8.80298e-22</td><td class=vellipsis>&hellip;</td><td>&minus;1.01421e-21</td><td>&minus;1.02737e-21</td><td>&minus;1.03796e-21</td><td>&minus;1.04596e-21</td><td>&minus;1.05137e-21</td></tr>\n",
       "    <tr><td class='row_index'>5</td><td>2.85836e-22</td><td>1.08388e-22</td><td>&minus;1.08196e-22</td><td>&minus;2.9329e-22</td><td>&minus;3.93027e-22</td><td>&minus;3.78379e-22</td><td>&minus;2.53611e-22</td><td>&minus;5.50333e-23</td><td>1.5956e-22</td><td>3.27715e-22</td><td class=vellipsis>&hellip;</td><td>&minus;6.98691e-22</td><td>1.11654e-21</td><td>1.07112e-21</td><td>9.94455e-22</td><td>1.08191e-21</td></tr>\n",
       "    <tr><td class='row_index'>6</td><td>&minus;1.23525e-21</td><td>&minus;1.05868e-21</td><td>&minus;8.7101e-22</td><td>&minus;6.81826e-22</td><td>&minus;4.91454e-22</td><td>&minus;3.00223e-22</td><td>&minus;1.08468e-22</td><td>8.34783e-23</td><td>2.75282e-22</td><td>4.66609e-22</td><td class=vellipsis>&hellip;</td><td>&minus;5.17145e-21</td><td>&minus;5.07792e-21</td><td>&minus;4.97446e-21</td><td>&minus;4.86139e-21</td><td>&minus;4.73902e-21</td></tr>\n",
       "    <tr><td class='row_index'>7</td><td>2.66315e-21</td><td>2.78778e-21</td><td>2.91335e-21</td><td>3.0329e-21</td><td>3.14618e-21</td><td>3.25295e-21</td><td>3.35299e-21</td><td>3.4461e-21</td><td>3.53209e-21</td><td>3.61077e-21</td><td class=vellipsis>&hellip;</td><td>8.35826e-23</td><td>2.85423e-22</td><td>4.86438e-22</td><td>6.86225e-22</td><td>8.84389e-22</td></tr>\n",
       "    <tr><td class='row_index'>8</td><td>8.56012e-21</td><td>8.36924e-21</td><td>8.14821e-21</td><td>7.90709e-21</td><td>7.64647e-21</td><td>7.36699e-21</td><td>7.06935e-21</td><td>6.75429e-21</td><td>6.42256e-21</td><td>6.07501e-21</td><td class=vellipsis>&hellip;</td><td>7.88476e-21</td><td>8.36311e-21</td><td>8.8129e-21</td><td>9.2331e-21</td><td>9.6228e-21</td></tr>\n",
       "    <tr><td class='row_index'>9</td><td>7.01216e-21</td><td>6.97063e-21</td><td>6.89357e-21</td><td>6.78271e-21</td><td>6.63858e-21</td><td>6.4619e-21</td><td>6.25352e-21</td><td>6.01446e-21</td><td>5.74591e-21</td><td>5.44918e-21</td><td class=vellipsis>&hellip;</td><td>2.02695e-21</td><td>2.85555e-21</td><td>3.65284e-21</td><td>4.41312e-21</td><td>5.13134e-21</td></tr>\n",
       "    <tr><td class='row_index'>10</td><td>2.29635e-21</td><td>1.93944e-21</td><td>1.42605e-21</td><td>8.08439e-22</td><td>1.31747e-22</td><td>&minus;5.5457e-22</td><td>&minus;1.20036e-21</td><td>&minus;1.75842e-21</td><td>&minus;2.18796e-21</td><td>&minus;2.45761e-21</td><td class=vellipsis>&hellip;</td><td>1.28064e-20</td><td>&minus;1.45171e-20</td><td>&minus;1.45491e-20</td><td>4.7175e-21</td><td>7.12564e-21</td></tr>\n",
       "    <tr><td class='row_index'>11</td><td>1.95052e-21</td><td>1.07803e-21</td><td>9.18412e-23</td><td>&minus;9.00359e-22</td><td>&minus;1.83363e-21</td><td>&minus;2.64687e-21</td><td>&minus;3.28687e-21</td><td>&minus;3.71173e-21</td><td>&minus;3.89364e-21</td><td>&minus;3.82071e-21</td><td class=vellipsis>&hellip;</td><td>1.73135e-20</td><td>&minus;1.74404e-20</td><td>&minus;1.43421e-20</td><td>1.85986e-20</td><td>&minus;1.88047e-20</td></tr>\n",
       "    <tr><td class='row_index'>12</td><td>&minus;5.59301e-21</td><td>&minus;5.17267e-21</td><td>&minus;4.62971e-21</td><td>&minus;3.99437e-21</td><td>&minus;3.27931e-21</td><td>&minus;2.49881e-21</td><td>&minus;1.66844e-21</td><td>&minus;8.0477e-22</td><td>7.49672e-23</td><td>9.53215e-22</td><td class=vellipsis>&hellip;</td><td>&minus;7.82387e-21</td><td>&minus;6.61698e-21</td><td>&minus;5.32265e-21</td><td>&minus;3.99734e-21</td><td>&minus;2.68864e-21</td></tr>\n",
       "    <tr><td class='row_index'>13</td><td>&minus;5.44469e-21</td><td>&minus;5.92893e-21</td><td>&minus;6.34981e-21</td><td>&minus;6.67325e-21</td><td>&minus;6.89426e-21</td><td>&minus;7.00947e-21</td><td>&minus;7.0171e-21</td><td>&minus;6.91704e-21</td><td>&minus;6.71081e-21</td><td>&minus;6.4016e-21</td><td class=vellipsis>&hellip;</td><td>1.11336e-20</td><td>1.14898e-20</td><td>1.1627e-20</td><td>1.15759e-20</td><td>1.13697e-20</td></tr>\n",
       "    <tr><td class='row_index'>14</td><td>&minus;1.66277e-22</td><td>2.34013e-22</td><td>6.01689e-22</td><td>8.31929e-22</td><td>8.7214e-22</td><td>7.13136e-22</td><td>3.91236e-22</td><td>&minus;2.00315e-23</td><td>&minus;4.26726e-22</td><td>&minus;7.35948e-22</td><td class=vellipsis>&hellip;</td><td>&minus;5.61256e-22</td><td>3.99178e-21</td><td>6.29461e-21</td><td>&minus;2.56849e-21</td><td><span class=na>NA</span></td></tr>\n",
       "    <tr><td class='row_index'>&#x22EE;</td><td class='hellipsis'>&#x22EE;</td><td class='hellipsis'>&#x22EE;</td><td class='hellipsis'>&#x22EE;</td><td class='hellipsis'>&#x22EE;</td><td class='hellipsis'>&#x22EE;</td><td class='hellipsis'>&#x22EE;</td><td class='hellipsis'>&#x22EE;</td><td class='hellipsis'>&#x22EE;</td><td class='hellipsis'>&#x22EE;</td><td class='hellipsis'>&#x22EE;</td><td class='hellipsis'>&#x22F1;</td><td class='hellipsis'>&#x22EE;</td><td class='hellipsis'>&#x22EE;</td><td class='hellipsis'>&#x22EE;</td><td class='hellipsis'>&#x22EE;</td><td class='hellipsis'>&#x22EE;</td></tr>\n",
       "    <tr><td class='row_index'>245</td><td>6.32591e-22</td><td>9.94579e-22</td><td>1.3654e-21</td><td>1.72193e-21</td><td>2.06042e-21</td><td>2.37735e-21</td><td>2.66938e-21</td><td>2.93346e-21</td><td>3.16683e-21</td><td>3.36704e-21</td><td class=vellipsis>&hellip;</td><td>&minus;5.84503e-21</td><td>&minus;5.97409e-21</td><td>&minus;5.86647e-21</td><td>&minus;5.52794e-21</td><td>&minus;4.97342e-21</td></tr>\n",
       "    <tr><td class='row_index'>246</td><td>&minus;7.00536e-21</td><td>&minus;6.77033e-21</td><td>&minus;6.41299e-21</td><td>&minus;5.94878e-21</td><td>&minus;5.38544e-21</td><td>&minus;4.73234e-21</td><td>&minus;4.00038e-21</td><td>&minus;3.20176e-21</td><td>&minus;2.34977e-21</td><td>&minus;1.45863e-21</td><td class=vellipsis>&hellip;</td><td>1.7588e-21</td><td>7.56682e-21</td><td>1.212e-20</td><td>1.47493e-20</td><td>1.51515e-20</td></tr>\n",
       "    <tr><td class='row_index'>247</td><td>&minus;2.82419e-21</td><td>&minus;2.77661e-21</td><td>&minus;2.64855e-21</td><td>&minus;2.44416e-21</td><td>&minus;2.16934e-21</td><td>&minus;1.832e-21</td><td>&minus;1.44187e-21</td><td>&minus;1.01019e-21</td><td>&minus;5.49394e-22</td><td>&minus;7.27672e-23</td><td class=vellipsis>&hellip;</td><td>&minus;8.52645e-21</td><td>&minus;5.61017e-21</td><td>8.3124e-22</td><td>5.68248e-21</td><td>7.11433e-21</td></tr>\n",
       "    <tr><td class='row_index'>248</td><td>&minus;4.47756e-21</td><td>&minus;4.3718e-21</td><td>&minus;4.21553e-21</td><td>&minus;4.0148e-21</td><td>&minus;3.77172e-21</td><td>&minus;3.48886e-21</td><td>&minus;3.16921e-21</td><td>&minus;2.81612e-21</td><td>&minus;2.43334e-21</td><td>&minus;2.02489e-21</td><td class=vellipsis>&hellip;</td><td>&minus;1.22676e-21</td><td>&minus;2.59445e-21</td><td>&minus;3.85683e-21</td><td>&minus;4.96471e-21</td><td>&minus;5.87556e-21</td></tr>\n",
       "    <tr><td class='row_index'>249</td><td>&minus;2.44675e-21</td><td>&minus;2.55246e-21</td><td>&minus;2.51868e-21</td><td>&minus;2.33818e-21</td><td>&minus;2.02147e-21</td><td>&minus;1.58701e-21</td><td>&minus;1.06009e-21</td><td>&minus;4.71411e-22</td><td>1.44725e-22</td><td>7.52432e-22</td><td class=vellipsis>&hellip;</td><td>6.94866e-21</td><td>8.64999e-22</td><td>&minus;6.09522e-21</td><td>&minus;6.5838e-21</td><td>&minus;2.73347e-21</td></tr>\n",
       "  </tbody>\n",
       "  </table>\n",
       "  <div class='footer'>\n",
       "    <div class='frame_dimensions'>250 rows &times; 1,577,908 columns</div>\n",
       "  </div>\n",
       "</div>\n"
      ],
      "text/plain": [
       "<Frame#1b9fd1a6220 250x1577908>"
      ]
     },
     "execution_count": 2,
     "metadata": {},
     "output_type": "execute_result"
    }
   ],
   "source": [
    "df = dt.fread(r\"\\\\wsl.localhost\\Ubuntu-22.04\\home\\imperious\\ML and CVAE projects\\GW from EMRI\\gw data\\GW_data\\results\\datasignal_one_1.txt\",sep=\"\\t\")\n",
    "df[dt.str32] = dt.float64\n",
    "df"
   ]
  },
  {
   "cell_type": "code",
   "execution_count": 3,
   "metadata": {},
   "outputs": [
    {
     "data": {
      "text/html": [
       "<div class='datatable'>\n",
       "  <table class='frame'>\n",
       "  <thead>\n",
       "    <tr class='colnames'><td class='row_index'></td><th>M</th><th>mu</th><th>a</th><th>r0</th><th>phi0</th><th>thetas</th><th>phis</th><th>theta1</th><th>phi1</th></tr>\n",
       "    <tr class='coltypes'><td class='row_index'></td><td class='int' title='int32'>&#x25AA;&#x25AA;&#x25AA;&#x25AA;</td><td class='int' title='int32'>&#x25AA;&#x25AA;&#x25AA;&#x25AA;</td><td class='float' title='float64'>&#x25AA;&#x25AA;&#x25AA;&#x25AA;&#x25AA;&#x25AA;&#x25AA;&#x25AA;</td><td class='float' title='float64'>&#x25AA;&#x25AA;&#x25AA;&#x25AA;&#x25AA;&#x25AA;&#x25AA;&#x25AA;</td><td class='float' title='float64'>&#x25AA;&#x25AA;&#x25AA;&#x25AA;&#x25AA;&#x25AA;&#x25AA;&#x25AA;</td><td class='str' title='str32'>&#x25AA;&#x25AA;&#x25AA;&#x25AA;</td><td class='str' title='str32'>&#x25AA;&#x25AA;&#x25AA;&#x25AA;</td><td class='str' title='str32'>&#x25AA;&#x25AA;&#x25AA;&#x25AA;</td><td class='str' title='str32'>&#x25AA;&#x25AA;&#x25AA;&#x25AA;</td></tr>\n",
       "  </thead>\n",
       "  <tbody>\n",
       "    <tr><td class='row_index'>0</td><td>700000</td><td>40</td><td>0</td><td>13.8743</td><td>0</td><td>(57*Pi)/100</td><td>(19*Pi)/100</td><td>Pi/25</td><td>Pi</td></tr>\n",
       "    <tr><td class='row_index'>1</td><td>800000</td><td>72</td><td>0</td><td>14.8416</td><td>1.94445</td><td>(37*Pi)/100</td><td>(4*Pi)/25</td><td>(21*Pi)/50</td><td>(3*Pi)/4</td></tr>\n",
       "    <tr><td class='row_index'>2</td><td>2000000</td><td>34</td><td>0</td><td>9.23585</td><td>0.00356876</td><td>(49*Pi)/100</td><td>(43*Pi)/50</td><td>(37*Pi)/100</td><td>(31*Pi)/100</td></tr>\n",
       "    <tr><td class='row_index'>3</td><td>9000000</td><td>86</td><td>0</td><td>7.28645</td><td>2.04012</td><td>(3*Pi)/4</td><td>(12*Pi)/25</td><td>(18*Pi)/25</td><td>(99*Pi)/100</td></tr>\n",
       "    <tr><td class='row_index'>4</td><td>9000000</td><td>34</td><td>0</td><td>6.83257</td><td>&minus;0.747715</td><td>(73*Pi)/100</td><td>(47*Pi)/100</td><td>(19*Pi)/50</td><td>(47*Pi)/50</td></tr>\n",
       "    <tr><td class='row_index'>5</td><td>200000</td><td>10</td><td>0</td><td>17.6797</td><td>&minus;1.81508</td><td>(23*Pi)/100</td><td>(43*Pi)/50</td><td>(31*Pi)/100</td><td>(3*Pi)/100</td></tr>\n",
       "    <tr><td class='row_index'>6</td><td>10000000</td><td>96</td><td>0</td><td>7.2278</td><td>1.44778</td><td>Pi/3</td><td>Pi/4</td><td>Pi/8</td><td>0</td></tr>\n",
       "    <tr><td class='row_index'>7</td><td>10000000</td><td>40</td><td>0</td><td>6.81373</td><td>1.03285</td><td>(21*Pi)/25</td><td>(51*Pi)/100</td><td>(99*Pi)/100</td><td>(3*Pi)/50</td></tr>\n",
       "    <tr><td class='row_index'>8</td><td>8000000</td><td>100</td><td>0</td><td>7.53638</td><td>&minus;2.00043</td><td>(2*Pi)/25</td><td>(23*Pi)/100</td><td>(87*Pi)/100</td><td>(37*Pi)/100</td></tr>\n",
       "    <tr><td class='row_index'>9</td><td>5000000</td><td>82</td><td>0</td><td>8.14433</td><td>&minus;1.58582</td><td>(3*Pi)/50</td><td>(7*Pi)/25</td><td>(3*Pi)/10</td><td>(11*Pi)/25</td></tr>\n",
       "    <tr><td class='row_index'>10</td><td>500000</td><td>46</td><td>0.902</td><td>15.1553</td><td>0</td><td>(3*Pi)/50</td><td>(53*Pi)/100</td><td>(83*Pi)/100</td><td>(49*Pi)/50</td></tr>\n",
       "    <tr><td class='row_index'>11</td><td>700000</td><td>43</td><td>0.902</td><td>12.5247</td><td>&minus;0.472667</td><td>(3*Pi)/20</td><td>(37*Pi)/50</td><td>(2*Pi)/25</td><td>(47*Pi)/50</td></tr>\n",
       "    <tr><td class='row_index'>12</td><td>6000000</td><td>40</td><td>0.902</td><td>4.22132</td><td>&minus;2.73646</td><td>(89*Pi)/100</td><td>(3*Pi)/5</td><td>(2*Pi)/25</td><td>(9*Pi)/20</td></tr>\n",
       "    <tr><td class='row_index'>13</td><td>7000000</td><td>51</td><td>0.902</td><td>4.16293</td><td>2.97455</td><td>(39*Pi)/50</td><td>(17*Pi)/100</td><td>(4*Pi)/25</td><td>(33*Pi)/100</td></tr>\n",
       "    <tr><td class='row_index'>14</td><td>200000</td><td>18</td><td>0.902</td><td>19.0641</td><td>&minus;0.981991</td><td>(23*Pi)/25</td><td>(41*Pi)/100</td><td>(9*Pi)/10</td><td>(47*Pi)/50</td></tr>\n",
       "    <tr><td class='row_index'>&#x22EE;</td><td class='hellipsis'>&#x22EE;</td><td class='hellipsis'>&#x22EE;</td><td class='hellipsis'>&#x22EE;</td><td class='hellipsis'>&#x22EE;</td><td class='hellipsis'>&#x22EE;</td><td class='hellipsis'>&#x22EE;</td><td class='hellipsis'>&#x22EE;</td><td class='hellipsis'>&#x22EE;</td><td class='hellipsis'>&#x22EE;</td></tr>\n",
       "    <tr><td class='row_index'>245</td><td>4000000</td><td>66</td><td>0.424</td><td>7.22238</td><td>2.99544</td><td>(23*Pi)/25</td><td>(47*Pi)/50</td><td>(31*Pi)/100</td><td>(22*Pi)/25</td></tr>\n",
       "    <tr><td class='row_index'>246</td><td>2000000</td><td>89</td><td>0.424</td><td>9.87041</td><td>0.110881</td><td>(49*Pi)/100</td><td>Pi/100</td><td>(11*Pi)/100</td><td>(7*Pi)/100</td></tr>\n",
       "    <tr><td class='row_index'>247</td><td>900000</td><td>89</td><td>0.424</td><td>14.0512</td><td>2.47207</td><td>(4*Pi)/5</td><td>(43*Pi)/50</td><td>(12*Pi)/25</td><td>(22*Pi)/25</td></tr>\n",
       "    <tr><td class='row_index'>248</td><td>4000000</td><td>65</td><td>0.424</td><td>7.20478</td><td>2.34227</td><td>(17*Pi)/25</td><td>(81*Pi)/100</td><td>(91*Pi)/100</td><td>(22*Pi)/25</td></tr>\n",
       "    <tr><td class='row_index'>249</td><td>700000</td><td>40</td><td>0.424</td><td>13.121</td><td>1.94445</td><td>Pi/3</td><td>0</td><td>Pi/8</td><td>0</td></tr>\n",
       "  </tbody>\n",
       "  </table>\n",
       "  <div class='footer'>\n",
       "    <div class='frame_dimensions'>250 rows &times; 9 columns</div>\n",
       "  </div>\n",
       "</div>\n"
      ],
      "text/plain": [
       "<Frame#1b9b1dd8b70 250x9>"
      ]
     },
     "execution_count": 3,
     "metadata": {},
     "output_type": "execute_result"
    }
   ],
   "source": [
    "params = dt.fread(r\"\\\\wsl.localhost\\Ubuntu-22.04\\home\\imperious\\ML and CVAE projects\\GW from EMRI\\gw data\\readme\\paramlist.txt\",sep=\"\\t\")\n",
    "params=params[:250,:]\n",
    "params"
   ]
  },
  {
   "cell_type": "code",
   "execution_count": 4,
   "metadata": {},
   "outputs": [],
   "source": [
    "continuous_X = params[:,:5]\n",
    "normalizer_X = MinMaxScaler()\n",
    "normalizer_X.fit(continuous_X) #Fitted with continuous_x. Use it to decode MinMax.\n",
    "\n",
    "cont_norm_X = normalizer_X.transform(continuous_X)\n",
    "\n",
    "#print(pd.DataFrame(cont_norm_X))\n",
    "\n",
    "categorical_X = (dt.Frame.to_pandas(params[:,5:]))\n",
    "encoderOHE = OneHotEncoder()\n",
    "encoderOHE.fit(categorical_X) #Fitted with categorical_x. Use it to decode OneHot.\n",
    "\n",
    "cat_ohe_X = encoderOHE.transform(categorical_X)\n",
    "\n",
    "#print(pd.DataFrame(cat_ohe_X.toarray()))\n",
    "\n",
    "#normalizing gw data\n",
    "normalizer_cond = MinMaxScaler()\n",
    "normalizer_cond.fit(df)\n",
    "\n",
    "df = normalizer_cond.transform(df) #does sending to the df itself save ram?\n",
    "\n"
   ]
  },
  {
   "cell_type": "code",
   "execution_count": 5,
   "metadata": {},
   "outputs": [
    {
     "name": "stdout",
     "output_type": "stream",
     "text": [
      "     0    1    2    3    4    5    6    7    8    9    ...  332  333  334  \\\n",
      "0    0.0  0.0  0.0  0.0  0.0  0.0  0.0  0.0  0.0  0.0  ...  0.0  0.0  0.0   \n",
      "1    0.0  0.0  0.0  0.0  0.0  0.0  0.0  0.0  0.0  0.0  ...  0.0  0.0  0.0   \n",
      "2    0.0  0.0  0.0  0.0  0.0  0.0  0.0  0.0  0.0  0.0  ...  0.0  0.0  0.0   \n",
      "3    0.0  0.0  0.0  0.0  0.0  0.0  0.0  0.0  0.0  0.0  ...  0.0  0.0  1.0   \n",
      "4    0.0  0.0  0.0  0.0  0.0  0.0  0.0  0.0  0.0  0.0  ...  0.0  0.0  0.0   \n",
      "..   ...  ...  ...  ...  ...  ...  ...  ...  ...  ...  ...  ...  ...  ...   \n",
      "245  0.0  0.0  0.0  0.0  0.0  0.0  0.0  0.0  0.0  0.0  ...  0.0  0.0  0.0   \n",
      "246  0.0  0.0  0.0  0.0  0.0  0.0  0.0  0.0  0.0  0.0  ...  0.0  0.0  0.0   \n",
      "247  0.0  0.0  0.0  0.0  0.0  0.0  0.0  0.0  0.0  0.0  ...  0.0  0.0  0.0   \n",
      "248  0.0  0.0  0.0  0.0  0.0  0.0  0.0  0.0  0.0  0.0  ...  0.0  0.0  0.0   \n",
      "249  0.0  0.0  0.0  0.0  0.0  0.0  0.0  0.0  0.0  0.0  ...  0.0  0.0  0.0   \n",
      "\n",
      "     335  336  337  338  339  340  341  \n",
      "0    0.0  1.0  0.0  0.0  0.0  0.0  0.0  \n",
      "1    0.0  0.0  0.0  0.0  0.0  0.0  0.0  \n",
      "2    0.0  0.0  0.0  0.0  0.0  0.0  0.0  \n",
      "3    0.0  0.0  0.0  0.0  0.0  0.0  0.0  \n",
      "4    0.0  0.0  0.0  0.0  0.0  0.0  0.0  \n",
      "..   ...  ...  ...  ...  ...  ...  ...  \n",
      "245  0.0  0.0  0.0  0.0  0.0  0.0  0.0  \n",
      "246  0.0  0.0  0.0  0.0  0.0  0.0  0.0  \n",
      "247  0.0  0.0  0.0  0.0  0.0  0.0  0.0  \n",
      "248  0.0  0.0  0.0  0.0  0.0  0.0  0.0  \n",
      "249  1.0  0.0  0.0  0.0  0.0  0.0  0.0  \n",
      "\n",
      "[250 rows x 342 columns]\n"
     ]
    }
   ],
   "source": [
    "print(pd.DataFrame(cat_ohe_X.toarray()))"
   ]
  },
  {
   "cell_type": "code",
   "execution_count": 6,
   "metadata": {},
   "outputs": [],
   "source": [
    "hidden_dim = 2\n",
    "batch_size = 25\n",
    "num_classes = 10 "
   ]
  },
  {
   "cell_type": "code",
   "execution_count": 7,
   "metadata": {},
   "outputs": [],
   "source": [
    "def dropout_and_batchnorm(x):\n",
    "    return Dropout(0.3)(BatchNormalization()(x))\n",
    "\n",
    "def noiser(args):\n",
    "    global mean, log_var\n",
    "    mean, log_var = args\n",
    "    N = K.random_normal(shape=(batch_size, hidden_dim), mean=0., stddev=1.0)\n",
    "    return K.exp(log_var / 2) * N + mean"
   ]
  },
  {
   "cell_type": "code",
   "execution_count": 8,
   "metadata": {},
   "outputs": [],
   "source": [
    "# Encoder\n",
    "\n",
    "\n",
    "\n",
    "\n",
    "input_params_cont = Input(shape=(5,))\n",
    "input_params_cat = Input(shape=(342,))\n",
    "cond_gw = Input(shape=(1577907,))\n",
    "\n",
    "x = concatenate([input_params_cont, input_params_cat, cond_gw])\n",
    "x = Dense(256, activation=\"relu\")(x)\n",
    "x = dropout_and_batchnorm(x)\n",
    "x = Dense(128, activation=\"relu\")(x)\n",
    "x = dropout_and_batchnorm(x)"
   ]
  },
  {
   "cell_type": "code",
   "execution_count": 9,
   "metadata": {},
   "outputs": [],
   "source": [
    "# Latent Space\n",
    "mean = Dense(hidden_dim)(x)\n",
    "log_var = Dense(hidden_dim)(x)\n",
    "h = Lambda(noiser, output_shape=(hidden_dim,), name=\"latent_space\")([mean, log_var])"
   ]
  },
  {
   "cell_type": "code",
   "execution_count": 10,
   "metadata": {},
   "outputs": [],
   "source": [
    "# Decoder\n",
    "input_decoder = Input(shape=(hidden_dim,))\n",
    "cond_gw_decoder = Input(shape=(1577907,))\n",
    "d = concatenate([input_decoder,cond_gw_decoder])\n",
    "d = Dense(128, activation=\"relu\")(d)\n",
    "d = dropout_and_batchnorm(d)\n",
    "d = Dense(256, activation=\"relu\")(d)\n",
    "d = dropout_and_batchnorm(d)\n",
    "d1 = Dense(342, activation=\"sigmoid\")(d)\n",
    "d2 = Dense(5, activation=\"linear\")(d)\n",
    "\n"
   ]
  },
  {
   "cell_type": "code",
   "execution_count": 11,
   "metadata": {},
   "outputs": [],
   "source": [
    "def vae_loss1(x, y):\n",
    "    x = K.reshape(x, shape=(342,)) #Corrigir\n",
    "    y = K.reshape(y, shape=(342,)) #Corrigir\n",
    "    loss = K.sum(K.square(x-y), axis=-1)\n",
    "    kl_loss = -0.5 * K.sum(1 + log_var - K.square(mean) - K.exp(log_var), axis=-1)\n",
    "    return loss + kl_loss\n",
    "\n",
    "def vae_loss2(x, y):\n",
    "    x = K.reshape(x, shape=(5,)) #Corrigir\n",
    "    y = K.reshape(y, shape=(5,)) #Corrigir\n",
    "    loss = K.sum(K.square(x-y), axis=-1)\n",
    "    kl_loss = -0.5 * K.sum(1 + log_var - K.square(mean) - K.exp(log_var), axis=-1)\n",
    "    return loss + kl_loss"
   ]
  },
  {
   "cell_type": "code",
   "execution_count": null,
   "metadata": {},
   "outputs": [],
   "source": [
    "encoder = keras.Model([input_params_cat,input_params_cont,cond_gw], h, name=\"encoder\") # Parece estar certo\n",
    "decoder = keras.Model([input_decoder, cond_gw_decoder], [d1,d2], name=\"decoder\") #corrigir\n",
    "\n",
    "cvae = keras.Model(inputs = [input_params_cat,input_params_cont, cond_gw, cond_gw_decoder], #observar se está certo\n",
    "                   outputs = decoder([encoder([input_params_cat,input_params_cont, cond_gw]), cond_gw_decoder]),\n",
    "                   name=\"cvae\")\n",
    "\n",
    "cvae.compile(optimizer=\"adam\", loss={})\n",
    "\n",
    "plot_model(encoder, to_file='encoder_plot.png', show_shapes=True, show_layer_names=True)\n",
    "plot_model(decoder, to_file='decoder_plot.png', show_shapes=True, show_layer_names=True)\n",
    "\n",
    "cvae.summary()"
   ]
  },
  {
   "cell_type": "code",
   "execution_count": null,
   "metadata": {},
   "outputs": [],
   "source": [
    "epochs = 25\n",
    "\n",
    "es = EarlyStopping(monitor='loss', mode='min', verbose=1, patience=10)\n",
    "\n",
    "cvae.fit(\n",
    "    [x_train, y_train_cat, y_train_cat], x_train,\n",
    "    epochs=epochs,\n",
    "    batch_size=batch_size,\n",
    "    shuffle=True\n",
    ")"
   ]
  }
 ],
 "metadata": {
  "kernelspec": {
   "display_name": "Python 3 (ipykernel)",
   "language": "python",
   "name": "python3"
  },
  "language_info": {
   "codemirror_mode": {
    "name": "ipython",
    "version": 3
   },
   "file_extension": ".py",
   "mimetype": "text/x-python",
   "name": "python",
   "nbconvert_exporter": "python",
   "pygments_lexer": "ipython3",
   "version": "3.11.0"
  }
 },
 "nbformat": 4,
 "nbformat_minor": 4
}
